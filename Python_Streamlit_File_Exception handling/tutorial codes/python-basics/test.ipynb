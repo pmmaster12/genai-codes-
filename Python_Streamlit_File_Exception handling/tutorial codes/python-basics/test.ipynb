{
 "cells": [
  {
   "cell_type": "code",
   "execution_count": 13,
   "metadata": {},
   "outputs": [
    {
     "name": "stdout",
     "output_type": "stream",
     "text": [
      "23\n"
     ]
    }
   ],
   "source": [
    "total =1+2+3+4+5+\\\n",
    "3+5\n",
    "print(total)"
   ]
  },
  {
   "cell_type": "markdown",
   "metadata": {},
   "source": [
    "this is basics\n"
   ]
  },
  {
   "cell_type": "code",
   "execution_count": 8,
   "metadata": {},
   "outputs": [],
   "source": [
    "#this is the basics"
   ]
  },
  {
   "cell_type": "markdown",
   "metadata": {},
   "source": []
  },
  {
   "cell_type": "markdown",
   "metadata": {},
   "source": []
  },
  {
   "cell_type": "markdown",
   "metadata": {},
   "source": [
    "hi\n"
   ]
  },
  {
   "cell_type": "markdown",
   "metadata": {},
   "source": [
    "# hi"
   ]
  },
  {
   "cell_type": "code",
   "execution_count": null,
   "metadata": {},
   "outputs": [],
   "source": []
  },
  {
   "cell_type": "markdown",
   "metadata": {},
   "source": [
    "zdfaf\n"
   ]
  },
  {
   "cell_type": "code",
   "execution_count": 29,
   "metadata": {},
   "outputs": [
    {
     "name": "stdout",
     "output_type": "stream",
     "text": [
      "32 \n",
      " 44\n"
     ]
    }
   ],
   "source": [
    "age= input()\n",
    "\n",
    "print(32,\"\\n\",44)"
   ]
  },
  {
   "cell_type": "code",
   "execution_count": null,
   "metadata": {},
   "outputs": [],
   "source": []
  },
  {
   "cell_type": "code",
   "execution_count": 1,
   "metadata": {},
   "outputs": [],
   "source": [
    "# hi"
   ]
  },
  {
   "cell_type": "code",
   "execution_count": 2,
   "metadata": {},
   "outputs": [],
   "source": [
    "## hi"
   ]
  },
  {
   "cell_type": "code",
   "execution_count": 3,
   "metadata": {},
   "outputs": [],
   "source": [
    "#### ju"
   ]
  },
  {
   "cell_type": "code",
   "execution_count": 5,
   "metadata": {},
   "outputs": [
    {
     "data": {
      "text/plain": [
       "'\\nsdfsdf\\nsefwfr\\\\sefwerf\\\\dfsf\\n'"
      ]
     },
     "execution_count": 5,
     "metadata": {},
     "output_type": "execute_result"
    }
   ],
   "source": [
    "'''\n",
    "sdfsdf\n",
    "sefwfr\\sefwerf\\\\\\\n",
    "dfsf\n",
    "'''"
   ]
  },
  {
   "cell_type": "code",
   "execution_count": 33,
   "metadata": {},
   "outputs": [
    {
     "name": "stdout",
     "output_type": "stream",
     "text": [
      "1\n",
      "2\n",
      "1.6666666666666667\n"
     ]
    }
   ],
   "source": [
    "print(5//3)\n",
    "print(5%3)\n",
    "print(5/3)"
   ]
  },
  {
   "cell_type": "code",
   "execution_count": 34,
   "metadata": {},
   "outputs": [
    {
     "data": {
      "text/plain": [
       "False"
      ]
     },
     "execution_count": 34,
     "metadata": {},
     "output_type": "execute_result"
    }
   ],
   "source": [
    "x= True\n",
    "not x"
   ]
  },
  {
   "cell_type": "code",
   "execution_count": 36,
   "metadata": {},
   "outputs": [
    {
     "name": "stdout",
     "output_type": "stream",
     "text": [
      "yes\n"
     ]
    }
   ],
   "source": [
    "x= int(input())\n",
    "if x>=30:\n",
    "    print(\"yes\")\n",
    "else:\n",
    "    print(\"no\")"
   ]
  },
  {
   "cell_type": "code",
   "execution_count": 3,
   "metadata": {},
   "outputs": [
    {
     "data": {
      "text/plain": [
       "range(0, 5)"
      ]
     },
     "execution_count": 3,
     "metadata": {},
     "output_type": "execute_result"
    }
   ],
   "source": [
    "range(5)"
   ]
  },
  {
   "cell_type": "code",
   "execution_count": 4,
   "metadata": {},
   "outputs": [
    {
     "name": "stdout",
     "output_type": "stream",
     "text": [
      "0\n",
      "1\n",
      "2\n",
      "3\n",
      "4\n"
     ]
    }
   ],
   "source": [
    "for i in range(5):\n",
    "    print(i)"
   ]
  },
  {
   "cell_type": "code",
   "execution_count": 8,
   "metadata": {},
   "outputs": [
    {
     "name": "stdout",
     "output_type": "stream",
     "text": [
      "1\n",
      "2\n",
      "3\n",
      "4\n"
     ]
    }
   ],
   "source": [
    "\n",
    "for i in range(1,5):\n",
    "    print(i)"
   ]
  },
  {
   "cell_type": "code",
   "execution_count": 14,
   "metadata": {},
   "outputs": [
    {
     "data": {
      "text/plain": [
       "range(10, 12)"
      ]
     },
     "execution_count": 14,
     "metadata": {},
     "output_type": "execute_result"
    }
   ],
   "source": [
    "range(10,12)"
   ]
  },
  {
   "cell_type": "markdown",
   "metadata": {},
   "source": [
    "range(start,end,jumpm size)"
   ]
  },
  {
   "cell_type": "code",
   "execution_count": 18,
   "metadata": {},
   "outputs": [
    {
     "name": "stdout",
     "output_type": "stream",
     "text": [
      "10\n",
      "9\n",
      "8\n",
      "7\n",
      "6\n",
      "5\n",
      "4\n",
      "3\n",
      "2\n"
     ]
    }
   ],
   "source": [
    "for i in range(10,1,-1):\n",
    "    print(i)"
   ]
  },
  {
   "cell_type": "code",
   "execution_count": 21,
   "metadata": {},
   "outputs": [
    {
     "name": "stdout",
     "output_type": "stream",
     "text": [
      "10\n",
      "8\n",
      "6\n",
      "4\n",
      "2\n"
     ]
    }
   ],
   "source": [
    "for i in range(10,1,-2):\n",
    "    print(i)"
   ]
  },
  {
   "cell_type": "code",
   "execution_count": 13,
   "metadata": {},
   "outputs": [
    {
     "ename": "TypeError",
     "evalue": "'float' object cannot be interpreted as an integer",
     "output_type": "error",
     "traceback": [
      "\u001b[1;31m---------------------------------------------------------------------------\u001b[0m",
      "\u001b[1;31mTypeError\u001b[0m                                 Traceback (most recent call last)",
      "Cell \u001b[1;32mIn[13], line 2\u001b[0m\n\u001b[0;32m      1\u001b[0m \u001b[38;5;66;03m# strings\u001b[39;00m\n\u001b[1;32m----> 2\u001b[0m \u001b[38;5;28;01mfor\u001b[39;00m i \u001b[38;5;129;01min\u001b[39;00m \u001b[38;5;28;43mrange\u001b[39;49m\u001b[43m(\u001b[49m\u001b[38;5;241;43m10.1\u001b[39;49m\u001b[43m,\u001b[49m\u001b[38;5;241;43m-\u001b[39;49m\u001b[38;5;241;43m2\u001b[39;49m\u001b[43m)\u001b[49m:\n\u001b[0;32m      3\u001b[0m     \u001b[38;5;28mprint\u001b[39m(i)\n",
      "\u001b[1;31mTypeError\u001b[0m: 'float' object cannot be interpreted as an integer"
     ]
    }
   ],
   "source": [
    "# strings\n",
    "for i in range(10.1,-2):\n",
    "    print(i)"
   ]
  },
  {
   "cell_type": "code",
   "execution_count": 23,
   "metadata": {},
   "outputs": [
    {
     "name": "stdout",
     "output_type": "stream",
     "text": [
      "t\n",
      "a\n",
      "r\n",
      "u\n",
      "n\n"
     ]
    }
   ],
   "source": [
    "str =\"tarun\"\n",
    "for i in str:\n",
    "    print(i)"
   ]
  },
  {
   "cell_type": "code",
   "execution_count": 15,
   "metadata": {},
   "outputs": [
    {
     "name": "stdout",
     "output_type": "stream",
     "text": [
      "0\n",
      "1\n",
      "2\n"
     ]
    }
   ],
   "source": [
    "# while loop\n",
    "i=0\n",
    "while i<5:\n",
    "    if i==3:\n",
    "        break\n",
    "    print(i)\n",
    "    i=i+1"
   ]
  },
  {
   "cell_type": "code",
   "execution_count": 9,
   "metadata": {},
   "outputs": [],
   "source": [
    "## nested loops"
   ]
  },
  {
   "cell_type": "code",
   "execution_count": 14,
   "metadata": {},
   "outputs": [
    {
     "name": "stdout",
     "output_type": "stream",
     "text": [
      "i:0 and j:0\n",
      "i:0 and j:1\n",
      "i:0 and j:2\n",
      "i:1 and j:0\n",
      "i:1 and j:1\n",
      "i:1 and j:2\n",
      "i:2 and j:0\n",
      "i:2 and j:1\n",
      "i:2 and j:2\n",
      "i:3 and j:0\n",
      "i:3 and j:1\n",
      "i:3 and j:2\n"
     ]
    }
   ],
   "source": [
    "for i in range(4):\n",
    "    for j in range(3):\n",
    "        print(f\"i:{i} and j:{j}\")\n"
   ]
  },
  {
   "cell_type": "markdown",
   "metadata": {},
   "source": [
    "Data structures in python"
   ]
  },
  {
   "cell_type": "code",
   "execution_count": 19,
   "metadata": {},
   "outputs": [
    {
     "name": "stdout",
     "output_type": "stream",
     "text": [
      "[1, 1, 2, 'hello world', True]\n",
      "True\n",
      "1\n",
      "[1, 2, 'hello world', True]\n",
      "[1, 2, 'hello world']\n",
      "[]\n"
     ]
    }
   ],
   "source": [
    "list=[1,1,2,\"hello world\",True]\n",
    "print(list)\n",
    "print(list[-6%5])\n",
    "print(list[1])\n",
    "print(list[1:])\n",
    "print(list[1:4])\n",
    "print(list[-1:-3])\n"
   ]
  },
  {
   "cell_type": "code",
   "execution_count": 23,
   "metadata": {},
   "outputs": [],
   "source": [
    "list=[1,1,2,\"hello world\",True]\n"
   ]
  },
  {
   "cell_type": "code",
   "execution_count": 24,
   "metadata": {},
   "outputs": [
    {
     "name": "stdout",
     "output_type": "stream",
     "text": [
      "[1, 'w', 'a', 't', 'e', 'r', 'hello world', True]\n"
     ]
    }
   ],
   "source": [
    "list[1:2]=\"water\"\n",
    "print(list)"
   ]
  },
  {
   "cell_type": "code",
   "execution_count": 49,
   "metadata": {},
   "outputs": [
    {
     "name": "stdout",
     "output_type": "stream",
     "text": [
      "[1, 2, 3, 4, 5]\n",
      "[1, 'w', 'a', 't', 'e', 'r']\n",
      "[1, 'w', 'a', 't', 'e', 'r', 'hi']\n",
      "[1, 'w', 'a', True, 't', 'e', 'r', 'hi']\n",
      "[1, 'w', 'a', True, 't', 'e', 'r', 'hi', True]\n"
     ]
    }
   ],
   "source": [
    "list=[1,2,3,4,5]\n",
    "print(list)\n",
    "list[1:]=\"water\"\n",
    "print(list)\n",
    "list.append(\"hi\")\n",
    "print(list)\n",
    "list.insert(3,True)\n",
    "print(list)\n",
    "list.append(True)\n",
    "print(list)\n"
   ]
  },
  {
   "cell_type": "code",
   "execution_count": 59,
   "metadata": {},
   "outputs": [
    {
     "name": "stdout",
     "output_type": "stream",
     "text": [
      "['w', 'a', 't', 'e', 'hi', 'hi', 'hi', 'hi']\n",
      "['w', 'a', 't', 'e', 'hi', 'hi', 'hi', 'hi']\n",
      "0\n",
      "4\n"
     ]
    }
   ],
   "source": [
    "print(list)\n",
    "print(list)\n",
    "print(list.index(\"w\"))\n",
    "list.append(\"hi\")\n",
    "print(list.index(\"hi\"))\n",
    "\n"
   ]
  },
  {
   "cell_type": "code",
   "execution_count": 64,
   "metadata": {},
   "outputs": [
    {
     "name": "stdout",
     "output_type": "stream",
     "text": [
      "0\n",
      "[]\n",
      "[]\n"
     ]
    }
   ],
   "source": [
    "print(list.count(\"hi\"))\n",
    "list.reverse()\n",
    "print(list)\n",
    "list.clear()\n",
    "print(list)"
   ]
  },
  {
   "cell_type": "code",
   "execution_count": 74,
   "metadata": {},
   "outputs": [],
   "source": [
    "## slicing list\n",
    "list=range(1,5)"
   ]
  },
  {
   "cell_type": "code",
   "execution_count": 77,
   "metadata": {},
   "outputs": [
    {
     "name": "stdout",
     "output_type": "stream",
     "text": [
      "range(2, 3)\n",
      "range(4, 0, -2)\n",
      "range(1, 4)\n"
     ]
    }
   ],
   "source": [
    "print(list[1:2])\n",
    "print(list[::-2])\n",
    "print(list[:3])"
   ]
  },
  {
   "cell_type": "code",
   "execution_count": 78,
   "metadata": {},
   "outputs": [],
   "source": [
    "#iterating over list"
   ]
  },
  {
   "cell_type": "code",
   "execution_count": 79,
   "metadata": {},
   "outputs": [
    {
     "name": "stdout",
     "output_type": "stream",
     "text": [
      "1\n",
      "2\n",
      "3\n",
      "4\n"
     ]
    }
   ],
   "source": [
    "for i in list:\n",
    "    print(i)"
   ]
  },
  {
   "cell_type": "markdown",
   "metadata": {},
   "source": [
    "indexing and element iteration together"
   ]
  },
  {
   "cell_type": "code",
   "execution_count": 4,
   "metadata": {},
   "outputs": [
    {
     "name": "stdout",
     "output_type": "stream",
     "text": [
      "1 2\n"
     ]
    }
   ],
   "source": [
    "list3=[1,2,3]\n",
    "for x,i in enumerate(list):\n",
    "    if (x+i==3):\n",
    "     print(x,i)"
   ]
  },
  {
   "cell_type": "markdown",
   "metadata": {},
   "source": [
    "list comprehension"
   ]
  },
  {
   "cell_type": "code",
   "execution_count": 89,
   "metadata": {},
   "outputs": [
    {
     "name": "stdout",
     "output_type": "stream",
     "text": [
      "[0, 1, 4, 9, 16, 25, 36, 49, 64, 81]\n"
     ]
    }
   ],
   "source": [
    "list1=[]\n",
    "for x in range(10):\n",
    "   list1.append(x**2)\n",
    "print(list1)"
   ]
  },
  {
   "cell_type": "code",
   "execution_count": 84,
   "metadata": {},
   "outputs": [
    {
     "data": {
      "text/plain": [
       "[0, 1, 4, 9, 16, 25, 36, 49, 64, 81]"
      ]
     },
     "execution_count": 84,
     "metadata": {},
     "output_type": "execute_result"
    }
   ],
   "source": [
    "[x**2 for x in range(10)]\n",
    "#[operation ---loop]"
   ]
  },
  {
   "cell_type": "code",
   "execution_count": 91,
   "metadata": {},
   "outputs": [
    {
     "name": "stdout",
     "output_type": "stream",
     "text": [
      "[0, 1, 8, 27, 64, 125, 216, 343, 512, 729, 1000]\n"
     ]
    }
   ],
   "source": [
    "square=[num**3 for num in range(11)]\n",
    "print(square)"
   ]
  },
  {
   "cell_type": "code",
   "execution_count": 96,
   "metadata": {},
   "outputs": [
    {
     "name": "stdout",
     "output_type": "stream",
     "text": [
      "[0, 8, 64, 216, 512, 1000]\n"
     ]
    }
   ],
   "source": [
    "#with conditions\n",
    "square=[num**3 for num in range(11) if num%2==0]\n",
    "print(square)"
   ]
  },
  {
   "cell_type": "code",
   "execution_count": 105,
   "metadata": {},
   "outputs": [
    {
     "name": "stdout",
     "output_type": "stream",
     "text": [
      "[[1, 'a'], [1, 'b'], [1, 'c'], [1, 'd'], [2, 'a'], [2, 'b'], [2, 'c'], [2, 'd'], [3, 'a'], [3, 'b'], [3, 'c'], [3, 'd'], [4, 'a'], [4, 'b'], [4, 'c'], [4, 'd']]\n"
     ]
    }
   ],
   "source": [
    "list1=[1,2,3,4]\n",
    "list2=['a','b','c','d']\n",
    "pair=[[x , y] for x in list1 for y in list2]\n",
    "print(pair)"
   ]
  },
  {
   "cell_type": "code",
   "execution_count": 112,
   "metadata": {},
   "outputs": [
    {
     "name": "stdout",
     "output_type": "stream",
     "text": [
      "[0, 0]\n"
     ]
    }
   ],
   "source": [
    "list1=[1,2,3,4]\n",
    "list2=[1,23,33,4]\n",
    "pair=[x - y for x in list1 for y in list2 if x==y] \n",
    "print(pair)"
   ]
  },
  {
   "cell_type": "markdown",
   "metadata": {},
   "source": [
    "Tuple\n"
   ]
  },
  {
   "cell_type": "code",
   "execution_count": 7,
   "metadata": {},
   "outputs": [
    {
     "name": "stdout",
     "output_type": "stream",
     "text": [
      "<class 'tuple'>\n"
     ]
    }
   ],
   "source": [
    "\n",
    "b=tuple()\n",
    "print(type(b))\n"
   ]
  },
  {
   "cell_type": "code",
   "execution_count": 8,
   "metadata": {},
   "outputs": [
    {
     "ename": "TypeError",
     "evalue": "'list' object is not callable",
     "output_type": "error",
     "traceback": [
      "\u001b[1;31m---------------------------------------------------------------------------\u001b[0m",
      "\u001b[1;31mTypeError\u001b[0m                                 Traceback (most recent call last)",
      "Cell \u001b[1;32mIn[8], line 1\u001b[0m\n\u001b[1;32m----> 1\u001b[0m num\u001b[38;5;241m=\u001b[39m\u001b[38;5;28;43mlist\u001b[39;49m\u001b[43m(\u001b[49m\u001b[43mb\u001b[49m\u001b[43m)\u001b[49m\n",
      "\u001b[1;31mTypeError\u001b[0m: 'list' object is not callable"
     ]
    }
   ],
   "source": []
  },
  {
   "cell_type": "code",
   "execution_count": 36,
   "metadata": {},
   "outputs": [
    {
     "data": {
      "text/plain": [
       "[1.2, 3, 1.2, 3, 1.2, 3]"
      ]
     },
     "execution_count": 36,
     "metadata": {},
     "output_type": "execute_result"
    }
   ],
   "source": [
    "tu=(1,2,3,4,5,1)\n",
    "tu *3\n",
    "li=[1.2,3]\n",
    "li*3"
   ]
  },
  {
   "cell_type": "code",
   "execution_count": 38,
   "metadata": {},
   "outputs": [
    {
     "name": "stdout",
     "output_type": "stream",
     "text": [
      "(1, 2, 3, 4, 5, 1)\n",
      "(2, 3, 4, 5, 1)\n",
      "(1, 2, 3)\n",
      "1\n",
      "2\n",
      "0\n"
     ]
    }
   ],
   "source": [
    "print(tu)\n",
    "print(tu[1:])\n",
    "print(tu[0:3:1])\n",
    "print(tu[-1])\n",
    "print(tu.count(1))\n",
    "print(tu.index(1))"
   ]
  },
  {
   "cell_type": "code",
   "execution_count": 28,
   "metadata": {},
   "outputs": [],
   "source": [
    "## immutable nature of tuples"
   ]
  },
  {
   "cell_type": "code",
   "execution_count": 39,
   "metadata": {},
   "outputs": [
    {
     "ename": "TypeError",
     "evalue": "'tuple' object does not support item assignment",
     "output_type": "error",
     "traceback": [
      "\u001b[1;31m---------------------------------------------------------------------------\u001b[0m",
      "\u001b[1;31mTypeError\u001b[0m                                 Traceback (most recent call last)",
      "Cell \u001b[1;32mIn[39], line 1\u001b[0m\n\u001b[1;32m----> 1\u001b[0m \u001b[43mtu\u001b[49m\u001b[43m[\u001b[49m\u001b[38;5;241;43m1\u001b[39;49m\u001b[43m]\u001b[49m\u001b[38;5;241m=\u001b[39m\u001b[38;5;241m3\u001b[39m\n",
      "\u001b[1;31mTypeError\u001b[0m: 'tuple' object does not support item assignment"
     ]
    }
   ],
   "source": [
    "tu[1]=3"
   ]
  },
  {
   "cell_type": "markdown",
   "metadata": {},
   "source": [
    "packaging and unpackaging of tuples"
   ]
  },
  {
   "cell_type": "code",
   "execution_count": 42,
   "metadata": {},
   "outputs": [],
   "source": [
    "temp=1,2,4.5,\"hello\",True"
   ]
  },
  {
   "cell_type": "code",
   "execution_count": 45,
   "metadata": {},
   "outputs": [
    {
     "name": "stdout",
     "output_type": "stream",
     "text": [
      "<class 'tuple'>\n",
      "hello\n"
     ]
    }
   ],
   "source": [
    "print(type(temp))\n",
    "#unpacking of tuple\n",
    "a,b,c,d,e=temp\n",
    "print(d)"
   ]
  },
  {
   "cell_type": "code",
   "execution_count": 49,
   "metadata": {},
   "outputs": [],
   "source": [
    "*first,a=temp"
   ]
  },
  {
   "cell_type": "code",
   "execution_count": 53,
   "metadata": {},
   "outputs": [
    {
     "name": "stdout",
     "output_type": "stream",
     "text": [
      "<class 'bool'>\n"
     ]
    }
   ],
   "source": [
    "print(type(a))"
   ]
  },
  {
   "cell_type": "code",
   "execution_count": 54,
   "metadata": {},
   "outputs": [
    {
     "name": "stdout",
     "output_type": "stream",
     "text": [
      "<class 'list'>\n",
      "[1, 2, 4.5, 'hello']\n"
     ]
    }
   ],
   "source": [
    "print(type(first))\n",
    "print((first))"
   ]
  },
  {
   "cell_type": "markdown",
   "metadata": {},
   "source": [
    "#dictionary\n"
   ]
  },
  {
   "cell_type": "code",
   "execution_count": 71,
   "metadata": {},
   "outputs": [
    {
     "name": "stdout",
     "output_type": "stream",
     "text": [
      "{'name': 3, 'age': 13, 'grade': 'A'}\n"
     ]
    }
   ],
   "source": [
    "\n",
    "a={\"name\":1,\"name\":3,\"age\":13,\"grade\":'A'}\n",
    "print(a)\n"
   ]
  },
  {
   "cell_type": "code",
   "execution_count": 78,
   "metadata": {},
   "outputs": [
    {
     "data": {
      "text/plain": [
       "'A'"
      ]
     },
     "execution_count": 78,
     "metadata": {},
     "output_type": "execute_result"
    }
   ],
   "source": [
    "a['name']\n",
    "a['age']\n",
    "a[\"grade\"]\n"
   ]
  },
  {
   "cell_type": "code",
   "execution_count": 79,
   "metadata": {},
   "outputs": [
    {
     "ename": "KeyError",
     "evalue": "'se'",
     "output_type": "error",
     "traceback": [
      "\u001b[1;31m---------------------------------------------------------------------------\u001b[0m",
      "\u001b[1;31mKeyError\u001b[0m                                  Traceback (most recent call last)",
      "Cell \u001b[1;32mIn[79], line 1\u001b[0m\n\u001b[1;32m----> 1\u001b[0m \u001b[38;5;28mprint\u001b[39m(\u001b[43ma\u001b[49m\u001b[43m[\u001b[49m\u001b[38;5;124;43m'\u001b[39;49m\u001b[38;5;124;43mse\u001b[39;49m\u001b[38;5;124;43m'\u001b[39;49m\u001b[43m]\u001b[49m)\n",
      "\u001b[1;31mKeyError\u001b[0m: 'se'"
     ]
    }
   ],
   "source": [
    "print(a['se'])"
   ]
  },
  {
   "cell_type": "code",
   "execution_count": 84,
   "metadata": {},
   "outputs": [
    {
     "name": "stdout",
     "output_type": "stream",
     "text": [
      "3\n",
      "13\n",
      "A\n",
      "nhi hai\n"
     ]
    }
   ],
   "source": [
    "print(a.get('name'))\n",
    "print(a.get('age'))\n",
    "print(a.get('grade'))\n",
    "print(a.get('nam','nhi hai'))"
   ]
  },
  {
   "cell_type": "code",
   "execution_count": 85,
   "metadata": {},
   "outputs": [
    {
     "name": "stdout",
     "output_type": "stream",
     "text": [
      "3\n"
     ]
    }
   ],
   "source": [
    "print(a.get('name'))\n"
   ]
  },
  {
   "cell_type": "code",
   "execution_count": 87,
   "metadata": {},
   "outputs": [
    {
     "name": "stdout",
     "output_type": "stream",
     "text": [
      "nandan patel\n",
      "{'name': 'nandan patel', 'age': 13, 'grade': 'A', 'income': 1000}\n"
     ]
    }
   ],
   "source": [
    "a['name']=\"nandan patel\"\n",
    "print(a['name'])\n",
    "a['income']=1000\n",
    "print(a)"
   ]
  },
  {
   "cell_type": "code",
   "execution_count": 93,
   "metadata": {},
   "outputs": [
    {
     "name": "stdout",
     "output_type": "stream",
     "text": [
      "{'age': 13, 'grade': 'A', 'income': 1000}\n",
      "{'grade': 'A', 'income': 1000}\n"
     ]
    }
   ],
   "source": [
    "\n",
    "print(a)\n",
    "del a['age']\n",
    "print(a)"
   ]
  },
  {
   "cell_type": "markdown",
   "metadata": {},
   "source": [
    "methords in dictionary"
   ]
  },
  {
   "cell_type": "code",
   "execution_count": 97,
   "metadata": {},
   "outputs": [
    {
     "name": "stdout",
     "output_type": "stream",
     "text": [
      "dict_keys(['grade', 'income'])\n",
      "dict_values(['A', 1000])\n",
      "<class 'dict_keys'>\n",
      "<class 'dict_values'>\n"
     ]
    }
   ],
   "source": [
    "keys=a.keys()\n",
    "print(keys)\n",
    "values=a.values()\n",
    "print(values)\n",
    "print(type(keys))\n",
    "print(type(values))\n"
   ]
  },
  {
   "cell_type": "markdown",
   "metadata": {},
   "source": [
    "normal copy problem "
   ]
  },
  {
   "cell_type": "code",
   "execution_count": 116,
   "metadata": {},
   "outputs": [
    {
     "name": "stdout",
     "output_type": "stream",
     "text": [
      "{'name': 'tarun', 'age': 20}\n",
      "{'name': 'tarun', 'age': 20}\n",
      "{'name': 'tarun', 'age': 21}\n",
      "{'name': 'tarun', 'age': 21}\n"
     ]
    }
   ],
   "source": [
    "b={'name':'tarun','age':20}\n",
    "print(b)\n",
    "c=b\n",
    "print(c)\n",
    "b['age']=21\n",
    "print(b)\n",
    "print(c)\n"
   ]
  },
  {
   "cell_type": "code",
   "execution_count": 117,
   "metadata": {},
   "outputs": [
    {
     "name": "stdout",
     "output_type": "stream",
     "text": [
      "{'name': 'tarun', 'age': 21}\n"
     ]
    }
   ],
   "source": [
    "d=b.copy()\n",
    "print(d)\n"
   ]
  },
  {
   "cell_type": "code",
   "execution_count": 119,
   "metadata": {},
   "outputs": [
    {
     "name": "stdout",
     "output_type": "stream",
     "text": [
      "{'name': 'tarun', 'age': 24}\n",
      "{'name': 'tarun', 'age': 21}\n"
     ]
    }
   ],
   "source": [
    "b['age']=24\n",
    "\n",
    "print(b)\n",
    "print(d)"
   ]
  },
  {
   "cell_type": "code",
   "execution_count": 124,
   "metadata": {},
   "outputs": [
    {
     "name": "stdout",
     "output_type": "stream",
     "text": [
      "name\n",
      "age\n",
      "tarun\n",
      "21\n",
      "name:tarun\n",
      "age:21\n"
     ]
    }
   ],
   "source": [
    "for x in d.keys():\n",
    "    print(x)\n",
    "for x in d.values():\n",
    "    print(x)\n",
    "for x,y in d.items():\n",
    "    print(f\"{x}:{y}\")"
   ]
  },
  {
   "cell_type": "code",
   "execution_count": 126,
   "metadata": {},
   "outputs": [
    {
     "name": "stdout",
     "output_type": "stream",
     "text": [
      "{0: 0, 1: 1, 2: 4, 3: 9, 4: 16}\n"
     ]
    }
   ],
   "source": [
    "sq={x:x**2 for x in range(5)}\n",
    "print(sq)"
   ]
  },
  {
   "cell_type": "code",
   "execution_count": 127,
   "metadata": {},
   "outputs": [],
   "source": [
    "sq={}\n",
    "for x in range(1,6):\n",
    "    sq[x]=x**2\n"
   ]
  },
  {
   "cell_type": "code",
   "execution_count": 128,
   "metadata": {},
   "outputs": [
    {
     "name": "stdout",
     "output_type": "stream",
     "text": [
      "5\n"
     ]
    }
   ],
   "source": [
    "print(x)"
   ]
  },
  {
   "cell_type": "code",
   "execution_count": 129,
   "metadata": {},
   "outputs": [],
   "source": [
    "list=[1,1,1,2,2,3,4,4,5]\n",
    "dict={}\n",
    "for i in list:\n",
    "    dict[i]=list.count(i)"
   ]
  },
  {
   "cell_type": "code",
   "execution_count": 130,
   "metadata": {},
   "outputs": [
    {
     "name": "stdout",
     "output_type": "stream",
     "text": [
      "{1: 3, 2: 2, 3: 1, 4: 2, 5: 1}\n"
     ]
    }
   ],
   "source": [
    "print(dict)"
   ]
  },
  {
   "cell_type": "code",
   "execution_count": 1,
   "metadata": {},
   "outputs": [
    {
     "name": "stdout",
     "output_type": "stream",
     "text": [
      "{1: 'a', 2: 'b', 7: 'c', 3: 'd'}\n"
     ]
    }
   ],
   "source": [
    "dict1={1:\"a\",2:'b'}\n",
    "dict2={7:'c',3:'d'}\n",
    "merge_dict={**dict1,**dict2}\n",
    "print(merge_dict)"
   ]
  },
  {
   "cell_type": "code",
   "execution_count": 2,
   "metadata": {},
   "outputs": [
    {
     "name": "stdout",
     "output_type": "stream",
     "text": [
      "[1, 2, 3, 4]\n"
     ]
    }
   ],
   "source": [
    "list1=[1,2]\n",
    "list2=[3,4]\n",
    "print(list1+list2)"
   ]
  },
  {
   "cell_type": "code",
   "execution_count": 3,
   "metadata": {},
   "outputs": [
    {
     "name": "stdout",
     "output_type": "stream",
     "text": [
      "True\n"
     ]
    }
   ],
   "source": [
    "if 1 in list1:\n",
    "    print(True)\n",
    "else:\n",
    "    print(False)"
   ]
  },
  {
   "cell_type": "code",
   "execution_count": 4,
   "metadata": {},
   "outputs": [],
   "source": [
    "list1.remove(1)"
   ]
  },
  {
   "cell_type": "code",
   "execution_count": 5,
   "metadata": {},
   "outputs": [
    {
     "name": "stdout",
     "output_type": "stream",
     "text": [
      "[2]\n"
     ]
    }
   ],
   "source": [
    "print(list1)"
   ]
  },
  {
   "cell_type": "code",
   "execution_count": 9,
   "metadata": {},
   "outputs": [
    {
     "name": "stdout",
     "output_type": "stream",
     "text": [
      "705.5\n",
      "2323\n",
      "22\n"
     ]
    }
   ],
   "source": [
    "k=[23,22,454,2323]\n",
    "avg=sum(k)/len(k)\n",
    "print(avg)\n",
    "print(max(k))\n",
    "print(min(k))"
   ]
  },
  {
   "cell_type": "code",
   "execution_count": 20,
   "metadata": {},
   "outputs": [],
   "source": [
    "def  even_odd(num):\n",
    "      if num%2==0:\n",
    "            return True\n",
    "      return False\n",
    "  \n"
   ]
  },
  {
   "cell_type": "code",
   "execution_count": 23,
   "metadata": {},
   "outputs": [
    {
     "name": "stdout",
     "output_type": "stream",
     "text": [
      "False\n"
     ]
    }
   ],
   "source": [
    "k=input()\n",
    "f=even_odd(int(k))\n",
    "print(f)"
   ]
  },
  {
   "cell_type": "markdown",
   "metadata": {},
   "source": [
    "postional arguments\n"
   ]
  },
  {
   "cell_type": "code",
   "execution_count": 42,
   "metadata": {},
   "outputs": [],
   "source": [
    "def print_num(*poarg):\n",
    "        print(sum(poarg),'\\n')"
   ]
  },
  {
   "cell_type": "code",
   "execution_count": 43,
   "metadata": {},
   "outputs": [
    {
     "name": "stdout",
     "output_type": "stream",
     "text": [
      "8 \n",
      "\n"
     ]
    }
   ],
   "source": [
    "print_num(1,2,2,3)"
   ]
  },
  {
   "cell_type": "code",
   "execution_count": 44,
   "metadata": {},
   "outputs": [],
   "source": [
    "def print_num(**kwarg):\n",
    "    for x,y in kwarg.items():\n",
    "        print(f\"{x} : {y} \\n\")"
   ]
  },
  {
   "cell_type": "code",
   "execution_count": 65,
   "metadata": {},
   "outputs": [
    {
     "name": "stdout",
     "output_type": "stream",
     "text": [
      "a877 : 3 \n",
      "\n",
      "b : 3 \n",
      "\n"
     ]
    }
   ],
   "source": [
    "print_num(a877=3,b='3')"
   ]
  },
  {
   "cell_type": "code",
   "execution_count": 66,
   "metadata": {},
   "outputs": [],
   "source": [
    "def print_num(*pos,**kwarg):\n",
    "    for x,y in kwarg.items():\n",
    "        print(f\"{x} : {y} \\n\")\n",
    "    for x in pos:\n",
    "        print(f\"{x}\\n\")"
   ]
  },
  {
   "cell_type": "code",
   "execution_count": 69,
   "metadata": {},
   "outputs": [
    {
     "name": "stdout",
     "output_type": "stream",
     "text": [
      "key : 3 \n",
      "\n",
      "value : tarun \n",
      "\n",
      "1\n",
      "\n",
      "2\n",
      "\n",
      "3\n",
      "\n",
      "tarun\n",
      "\n",
      "a\n",
      "\n",
      "True\n",
      "\n"
     ]
    }
   ],
   "source": [
    "print_num(1,2,3,\"tarun\",'a',True,key=3,value=\"tarun\")\n"
   ]
  },
  {
   "cell_type": "code",
   "execution_count": 70,
   "metadata": {},
   "outputs": [
    {
     "ename": "SyntaxError",
     "evalue": "positional argument follows keyword argument (2607480984.py, line 1)",
     "output_type": "error",
     "traceback": [
      "\u001b[1;36m  Cell \u001b[1;32mIn[70], line 1\u001b[1;36m\u001b[0m\n\u001b[1;33m    print_num(1,2,3,\"tarun\",'a',True,key=3,value=\"tarun\",6)\u001b[0m\n\u001b[1;37m                                                          ^\u001b[0m\n\u001b[1;31mSyntaxError\u001b[0m\u001b[1;31m:\u001b[0m positional argument follows keyword argument\n"
     ]
    }
   ],
   "source": [
    "print_num(1,2,3,\"tarun\",'a',True,key=3,value=\"tarun\",6)"
   ]
  },
  {
   "cell_type": "code",
   "execution_count": 91,
   "metadata": {},
   "outputs": [],
   "source": [
    "def mul(a,b):\n",
    "    return a*b,a,b"
   ]
  },
  {
   "cell_type": "code",
   "execution_count": 98,
   "metadata": {},
   "outputs": [
    {
     "ename": "ValueError",
     "evalue": "too many values to unpack (expected 2)",
     "output_type": "error",
     "traceback": [
      "\u001b[1;31m---------------------------------------------------------------------------\u001b[0m",
      "\u001b[1;31mValueError\u001b[0m                                Traceback (most recent call last)",
      "Cell \u001b[1;32mIn[98], line 1\u001b[0m\n\u001b[1;32m----> 1\u001b[0m res,x\u001b[38;5;241m=\u001b[39mmul(\u001b[38;5;241m6\u001b[39m,\u001b[38;5;241m7\u001b[39m)\n",
      "\u001b[1;31mValueError\u001b[0m: too many values to unpack (expected 2)"
     ]
    }
   ],
   "source": [
    "res,x=mul(6,7)"
   ]
  },
  {
   "cell_type": "code",
   "execution_count": 99,
   "metadata": {},
   "outputs": [
    {
     "ename": "NameError",
     "evalue": "name 'x' is not defined",
     "output_type": "error",
     "traceback": [
      "\u001b[1;31m---------------------------------------------------------------------------\u001b[0m",
      "\u001b[1;31mNameError\u001b[0m                                 Traceback (most recent call last)",
      "Cell \u001b[1;32mIn[99], line 1\u001b[0m\n\u001b[1;32m----> 1\u001b[0m \u001b[38;5;28mprint\u001b[39m(res,\u001b[43mx\u001b[49m)\n",
      "\u001b[1;31mNameError\u001b[0m: name 'x' is not defined"
     ]
    }
   ],
   "source": [
    "print(res,x)\n"
   ]
  },
  {
   "cell_type": "code",
   "execution_count": 100,
   "metadata": {},
   "outputs": [
    {
     "name": "stdout",
     "output_type": "stream",
     "text": [
      "(42, 6, 7, 4)\n"
     ]
    }
   ],
   "source": [
    "res=mul(6,7)\n",
    "print(res)"
   ]
  },
  {
   "cell_type": "markdown",
   "metadata": {},
   "source": [
    "lambda function"
   ]
  },
  {
   "cell_type": "code",
   "execution_count": 110,
   "metadata": {},
   "outputs": [
    {
     "name": "stdout",
     "output_type": "stream",
     "text": [
      "<class 'function'>\n",
      "hello 4\n",
      "None\n"
     ]
    }
   ],
   "source": [
    "add=lambda x:print(\"hello\",x)\n",
    "print(type(add))\n",
    "print(add(4))"
   ]
  },
  {
   "cell_type": "code",
   "execution_count": 129,
   "metadata": {},
   "outputs": [],
   "source": [
    "mul=lambda :5"
   ]
  },
  {
   "cell_type": "code",
   "execution_count": 131,
   "metadata": {},
   "outputs": [
    {
     "name": "stdout",
     "output_type": "stream",
     "text": [
      "<class 'int'>\n"
     ]
    }
   ],
   "source": [
    "print(type(mul()))"
   ]
  },
  {
   "cell_type": "markdown",
   "metadata": {},
   "source": [
    "map"
   ]
  },
  {
   "cell_type": "code",
   "execution_count": 140,
   "metadata": {},
   "outputs": [],
   "source": [
    "def sq(arg):\n",
    "    y=0\n",
    "    for x in arg:\n",
    "        y+=x**2\n",
    "     \n",
    "    return y\n",
    "\n"
   ]
  },
  {
   "cell_type": "code",
   "execution_count": 141,
   "metadata": {},
   "outputs": [
    {
     "name": "stdout",
     "output_type": "stream",
     "text": [
      "14\n"
     ]
    }
   ],
   "source": [
    "list=[1,2,3]\n",
    "print(sq(list))"
   ]
  },
  {
   "cell_type": "code",
   "execution_count": 1,
   "metadata": {},
   "outputs": [],
   "source": [
    "def square(x):\n",
    "    return x**2"
   ]
  },
  {
   "cell_type": "code",
   "execution_count": 2,
   "metadata": {},
   "outputs": [],
   "source": [
    "numbers=[1,2,3,4,5,6,7]"
   ]
  },
  {
   "cell_type": "code",
   "execution_count": 3,
   "metadata": {},
   "outputs": [],
   "source": [
    "# i want to perform operation on all numbers \n",
    "# approach 1\n",
    "list_res=[]\n",
    "for i in numbers:\n",
    "    list_res.append(square(i))"
   ]
  },
  {
   "cell_type": "code",
   "execution_count": 4,
   "metadata": {},
   "outputs": [
    {
     "name": "stdout",
     "output_type": "stream",
     "text": [
      "[1, 4, 9, 16, 25, 36, 49]\n"
     ]
    }
   ],
   "source": [
    "print(list_res)"
   ]
  },
  {
   "cell_type": "code",
   "execution_count": 12,
   "metadata": {},
   "outputs": [
    {
     "name": "stdout",
     "output_type": "stream",
     "text": [
      "<class 'list'>\n"
     ]
    }
   ],
   "source": [
    "#approach 2\n",
    "k=tuple()\n",
    "k=list()\n",
    "print(type(k))"
   ]
  },
  {
   "cell_type": "code",
   "execution_count": 9,
   "metadata": {},
   "outputs": [
    {
     "name": "stdout",
     "output_type": "stream",
     "text": [
      "[1, 4, 9, 16, 25, 36, 49]\n"
     ]
    }
   ],
   "source": [
    "temp=list(map(square,numbers))\n",
    "print(temp)"
   ]
  },
  {
   "cell_type": "code",
   "execution_count": 13,
   "metadata": {},
   "outputs": [
    {
     "name": "stdout",
     "output_type": "stream",
     "text": [
      "[1, 4, 9, 16, 25, 36, 49]\n"
     ]
    }
   ],
   "source": [
    "emp=list(map(lambda x:x**2,numbers))\n",
    "print(emp)"
   ]
  },
  {
   "cell_type": "code",
   "execution_count": 14,
   "metadata": {},
   "outputs": [
    {
     "name": "stdout",
     "output_type": "stream",
     "text": [
      "[5, 7, 9]\n"
     ]
    }
   ],
   "source": [
    "num1=[1,2,3]\n",
    "num2=[4,5,6]\n",
    "new=list(map(lambda x,y:x+y,num1,num2))\n",
    "print(new)"
   ]
  },
  {
   "cell_type": "code",
   "execution_count": 17,
   "metadata": {},
   "outputs": [
    {
     "name": "stdout",
     "output_type": "stream",
     "text": [
      "('TARUN', 'CHET', 'SUR')\n"
     ]
    }
   ],
   "source": [
    "words=[\"tarun\",\"chet\",\"sur\"]\n",
    "upper=tuple(map(str.upper,words))\n",
    "print(upper)"
   ]
  },
  {
   "cell_type": "markdown",
   "metadata": {},
   "source": [
    "filter function"
   ]
  },
  {
   "cell_type": "code",
   "execution_count": 19,
   "metadata": {},
   "outputs": [
    {
     "name": "stdout",
     "output_type": "stream",
     "text": [
      "[False, True, False, True, True, False, False, False]\n"
     ]
    }
   ],
   "source": [
    "# through map function\n",
    "num=[1,2,3,4,4,5,5,5]\n",
    "list1=list(map(lambda x:x%2==0,num))\n",
    "print(list1)"
   ]
  },
  {
   "cell_type": "code",
   "execution_count": 25,
   "metadata": {},
   "outputs": [
    {
     "name": "stdout",
     "output_type": "stream",
     "text": [
      "[None, 2, None, 4, 4, None, None, None]\n"
     ]
    }
   ],
   "source": [
    "def even(num):\n",
    "    if num%2==0:\n",
    "        return num\n",
    "    \n",
    "num=[1,2,3,4,4,5,5,5]\n",
    "list1=list(map(even,num))\n",
    "print(list1)"
   ]
  },
  {
   "cell_type": "code",
   "execution_count": 26,
   "metadata": {},
   "outputs": [
    {
     "data": {
      "text/plain": [
       "[2, 4, 4]"
      ]
     },
     "execution_count": 26,
     "metadata": {},
     "output_type": "execute_result"
    }
   ],
   "source": [
    "list(filter(even,num))"
   ]
  },
  {
   "cell_type": "code",
   "execution_count": 29,
   "metadata": {},
   "outputs": [
    {
     "name": "stdout",
     "output_type": "stream",
     "text": [
      "[6, 6, 3424]\n"
     ]
    }
   ],
   "source": [
    "num=[1,2,3,4,4,5,5,5,6,6,75435,2,3424]\n",
    "even_and_greater_five=list(filter(lambda x: x>5 and x%2==0,num))\n",
    "print(even_and_greater_five)"
   ]
  },
  {
   "cell_type": "code",
   "execution_count": 32,
   "metadata": {},
   "outputs": [
    {
     "ename": "ModuleNotFoundError",
     "evalue": "No module named 'numpy'",
     "output_type": "error",
     "traceback": [
      "\u001b[1;31m---------------------------------------------------------------------------\u001b[0m",
      "\u001b[1;31mModuleNotFoundError\u001b[0m                       Traceback (most recent call last)",
      "Cell \u001b[1;32mIn[32], line 2\u001b[0m\n\u001b[0;32m      1\u001b[0m \u001b[38;5;28;01mimport\u001b[39;00m \u001b[38;5;21;01mmath\u001b[39;00m \n\u001b[1;32m----> 2\u001b[0m \u001b[38;5;28;01mimport\u001b[39;00m \u001b[38;5;21;01mnumpy\u001b[39;00m\n",
      "\u001b[1;31mModuleNotFoundError\u001b[0m: No module named 'numpy'"
     ]
    }
   ],
   "source": [
    "import math \n",
    "import numpy"
   ]
  },
  {
   "cell_type": "code",
   "execution_count": 33,
   "metadata": {},
   "outputs": [
    {
     "name": "stdout",
     "output_type": "stream",
     "text": [
      "Collecting numpy\n",
      "  Downloading numpy-2.0.1-cp311-cp311-win_amd64.whl.metadata (60 kB)\n",
      "     ---------------------------------------- 0.0/60.9 kB ? eta -:--:--\n",
      "     ------ --------------------------------- 10.2/60.9 kB ? eta -:--:--\n",
      "     ------------ ------------------------- 20.5/60.9 kB 162.5 kB/s eta 0:00:01\n",
      "     ------------------------- ------------ 41.0/60.9 kB 245.8 kB/s eta 0:00:01\n",
      "     -------------------------------------- 60.9/60.9 kB 294.5 kB/s eta 0:00:00\n",
      "Downloading numpy-2.0.1-cp311-cp311-win_amd64.whl (16.6 MB)\n",
      "   ---------------------------------------- 0.0/16.6 MB ? eta -:--:--\n",
      "    --------------------------------------- 0.3/16.6 MB 6.3 MB/s eta 0:00:03\n",
      "   ---- ----------------------------------- 1.7/16.6 MB 17.6 MB/s eta 0:00:01\n",
      "   ------- -------------------------------- 2.9/16.6 MB 20.8 MB/s eta 0:00:01\n",
      "   ----------- ---------------------------- 4.6/16.6 MB 26.5 MB/s eta 0:00:01\n",
      "   -------------- ------------------------- 5.9/16.6 MB 26.9 MB/s eta 0:00:01\n",
      "   ---------------- ----------------------- 6.7/16.6 MB 25.1 MB/s eta 0:00:01\n",
      "   ------------------ --------------------- 7.7/16.6 MB 24.8 MB/s eta 0:00:01\n",
      "   --------------------- ------------------ 8.9/16.6 MB 24.9 MB/s eta 0:00:01\n",
      "   ------------------------ --------------- 10.1/16.6 MB 24.9 MB/s eta 0:00:01\n",
      "   --------------------------- ------------ 11.5/16.6 MB 27.3 MB/s eta 0:00:01\n",
      "   ------------------------------- -------- 13.1/16.6 MB 27.3 MB/s eta 0:00:01\n",
      "   ----------------------------------- ---- 14.7/16.6 MB 27.3 MB/s eta 0:00:01\n",
      "   -------------------------------------- - 15.9/16.6 MB 27.3 MB/s eta 0:00:01\n",
      "   ---------------------------------------  16.3/16.6 MB 25.2 MB/s eta 0:00:01\n",
      "   ---------------------------------------  16.6/16.6 MB 24.2 MB/s eta 0:00:01\n",
      "   ---------------------------------------- 16.6/16.6 MB 21.8 MB/s eta 0:00:00\n",
      "Installing collected packages: numpy\n",
      "Successfully installed numpy-2.0.1\n"
     ]
    }
   ],
   "source": [
    "!pip install numpy"
   ]
  },
  {
   "cell_type": "code",
   "execution_count": 38,
   "metadata": {},
   "outputs": [
    {
     "name": "stdout",
     "output_type": "stream",
     "text": [
      "4.123105625617661\n",
      "4.242640687119285 3.141592653589793\n"
     ]
    }
   ],
   "source": [
    "import numpy\n",
    "import math\n",
    "# one way of using code \n",
    "k=math.sqrt(17)\n",
    "print(k)\n",
    "# another way of using code \n",
    "from math import sqrt,pi\n",
    "print(sqrt(18),pi)"
   ]
  },
  {
   "cell_type": "code",
   "execution_count": 44,
   "metadata": {},
   "outputs": [
    {
     "name": "stdout",
     "output_type": "stream",
     "text": [
      "912\n",
      "4.242640687119285\n"
     ]
    }
   ],
   "source": [
    "import numpy as np\n",
    "from math import *\n",
    "print(lcm(48,38))\n",
    "print(sqrt(18))"
   ]
  },
  {
   "cell_type": "code",
   "execution_count": 47,
   "metadata": {},
   "outputs": [
    {
     "ename": "ModuleNotFoundError",
     "evalue": "No module named 'package'",
     "output_type": "error",
     "traceback": [
      "\u001b[1;31m---------------------------------------------------------------------------\u001b[0m",
      "\u001b[1;31mModuleNotFoundError\u001b[0m                       Traceback (most recent call last)",
      "Cell \u001b[1;32mIn[47], line 1\u001b[0m\n\u001b[1;32m----> 1\u001b[0m \u001b[38;5;28;01mfrom\u001b[39;00m \u001b[38;5;21;01mpackage\u001b[39;00m\u001b[38;5;21;01m.\u001b[39;00m\u001b[38;5;21;01mmaths\u001b[39;00m \u001b[38;5;28;01mimport\u001b[39;00m \u001b[38;5;241m*\u001b[39m\n",
      "\u001b[1;31mModuleNotFoundError\u001b[0m: No module named 'package'"
     ]
    }
   ],
   "source": [
    "from package.maths import *"
   ]
  },
  {
   "cell_type": "code",
   "execution_count": 25,
   "metadata": {},
   "outputs": [
    {
     "ename": "TypeError",
     "evalue": "cannot use a str to initialize an array with typecode 'i'",
     "output_type": "error",
     "traceback": [
      "\u001b[1;31m---------------------------------------------------------------------------\u001b[0m",
      "\u001b[1;31mTypeError\u001b[0m                                 Traceback (most recent call last)",
      "Cell \u001b[1;32mIn[25], line 2\u001b[0m\n\u001b[0;32m      1\u001b[0m \u001b[38;5;28;01mfrom\u001b[39;00m \u001b[38;5;21;01marray\u001b[39;00m \u001b[38;5;28;01mimport\u001b[39;00m \u001b[38;5;241m*\u001b[39m\n\u001b[1;32m----> 2\u001b[0m arr\u001b[38;5;241m=\u001b[39m\u001b[43marray\u001b[49m\u001b[43m(\u001b[49m\u001b[38;5;124;43m'\u001b[39;49m\u001b[38;5;124;43mi\u001b[39;49m\u001b[38;5;124;43m'\u001b[39;49m\u001b[43m,\u001b[49m\u001b[38;5;124;43m'\u001b[39;49m\u001b[38;5;124;43mhello \u001b[39;49m\u001b[38;5;130;43;01m\\u2641\u001b[39;49;00m\u001b[38;5;124;43m'\u001b[39;49m\u001b[43m)\u001b[49m\n\u001b[0;32m      3\u001b[0m \u001b[38;5;28mprint\u001b[39m(arr)\n\u001b[0;32m      4\u001b[0m \u001b[38;5;28mprint\u001b[39m(\u001b[38;5;28mtype\u001b[39m(arr))\n",
      "\u001b[1;31mTypeError\u001b[0m: cannot use a str to initialize an array with typecode 'i'"
     ]
    }
   ],
   "source": [
    "from array import *\n",
    "arr=array('iguess',[1,2,2])\n",
    "print(arr)\n",
    "print(type(arr))\n",
    "for x in arr:\n",
    "    print(x)"
   ]
  },
  {
   "cell_type": "code",
   "execution_count": 9,
   "metadata": {},
   "outputs": [
    {
     "name": "stdout",
     "output_type": "stream",
     "text": [
      "15\n"
     ]
    }
   ],
   "source": [
    "from random import *\n",
    "print(randint(1,20))"
   ]
  },
  {
   "cell_type": "code",
   "execution_count": 26,
   "metadata": {},
   "outputs": [
    {
     "name": "stdout",
     "output_type": "stream",
     "text": [
      "c:\\Users\\hp\\Desktop\\tutorial codes\\python-basics\n"
     ]
    }
   ],
   "source": [
    "import os \n",
    "print(os.getcwd())"
   ]
  },
  {
   "cell_type": "code",
   "execution_count": 27,
   "metadata": {},
   "outputs": [],
   "source": [
    "os.mkdir('test_dir')"
   ]
  },
  {
   "cell_type": "code",
   "execution_count": 28,
   "metadata": {},
   "outputs": [
    {
     "data": {
      "text/plain": [
       "'destination.txt'"
      ]
     },
     "execution_count": 28,
     "metadata": {},
     "output_type": "execute_result"
    }
   ],
   "source": [
    "import shutil\n",
    "shutil.copyfile('source.txt','destination.txt')"
   ]
  },
  {
   "cell_type": "code",
   "execution_count": 34,
   "metadata": {},
   "outputs": [
    {
     "name": "stdout",
     "output_type": "stream",
     "text": [
      "{\"name\": \"tarun\", \"age\": 21}\n",
      "<class 'str'>\n",
      "{'name': 'tarun', 'age': 21}\n",
      "<class 'dict'>\n"
     ]
    }
   ],
   "source": [
    "#data serialization\n",
    "import json\n",
    "data={'name':'tarun','age':21}\n",
    "json_str=json.dumps(data)\n",
    "print(json_str)\n",
    "print(type(json_str))\n",
    "data1 =json.loads(json_str)\n",
    "print(data1)\n",
    "print(type(data1))"
   ]
  },
  {
   "cell_type": "code",
   "execution_count": 58,
   "metadata": {},
   "outputs": [
    {
     "name": "stdout",
     "output_type": "stream",
     "text": [
      "['name', 'age']\n",
      "['tarun', '21']\n"
     ]
    }
   ],
   "source": [
    "import csv\n",
    "with open('example.csv',mode='w',newline='') as file:\n",
    "     writer=csv.writer(file)\n",
    "     writer.writerow(['name','age'])\n",
    "     writer.writerow(['tarun',21])\n",
    "with open('example.csv',mode='r') as file:\n",
    "     reader=csv.reader(file)\n",
    "     for x in reader:\n",
    "          print(x)"
   ]
  },
  {
   "cell_type": "code",
   "execution_count": 40,
   "metadata": {},
   "outputs": [
    {
     "name": "stdout",
     "output_type": "stream",
     "text": [
      "2024-08-01 17:33:04.784489\n"
     ]
    }
   ],
   "source": [
    "from datetime import *\n",
    "print(datetime.now()-timedelta(days=1))"
   ]
  },
  {
   "cell_type": "code",
   "execution_count": 42,
   "metadata": {},
   "outputs": [
    {
     "name": "stdout",
     "output_type": "stream",
     "text": [
      "1722600243.7909908\n",
      "1722600245.7924082\n"
     ]
    }
   ],
   "source": [
    "from time import *\n",
    "print(time())\n",
    "sleep(2)\n",
    "print(time())"
   ]
  },
  {
   "cell_type": "code",
   "execution_count": 48,
   "metadata": {},
   "outputs": [
    {
     "name": "stdout",
     "output_type": "stream",
     "text": [
      "tarun marks are 23\n",
      "['1', '2', '3', '4', '5', '6']\n"
     ]
    }
   ],
   "source": [
    "# regular expression -toc\n",
    "from re import *\n",
    "pat=r'\\d'\n",
    "text='there are 123 apple and 456 apple'\n",
    "x=23\n",
    "print(f\"tarun marks are {x}\")\n",
    "match=findall(pat,text)\n",
    "print(match)"
   ]
  },
  {
   "cell_type": "code",
   "execution_count": 55,
   "metadata": {},
   "outputs": [
    {
     "name": "stdout",
     "output_type": "stream",
     "text": [
      "tarun marks are 23\n",
      "['123', '456']\n"
     ]
    }
   ],
   "source": [
    "from re import *\n",
    "pat='\\d+'\n",
    "text='there are 123 apple and 456 apple'\n",
    "x=23\n",
    "print(f\"tarun marks are {x}\")\n",
    "match=findall(pat,text)\n",
    "print(match)"
   ]
  },
  {
   "cell_type": "code",
   "execution_count": 61,
   "metadata": {},
   "outputs": [
    {
     "name": "stdout",
     "output_type": "stream",
     "text": [
      "my name is tarun\n",
      "21 years\n",
      "\n"
     ]
    }
   ],
   "source": [
    "with open('example.txt','r') as file:\n",
    "    content=file.read()\n",
    "    print(content)"
   ]
  },
  {
   "cell_type": "code",
   "execution_count": 66,
   "metadata": {},
   "outputs": [
    {
     "name": "stdout",
     "output_type": "stream",
     "text": [
      "my name is tarun\n",
      "\n",
      "21 years\n",
      "\n"
     ]
    }
   ],
   "source": [
    "# read line by line\n",
    "with open('example.txt','r') as file:\n",
    "    for line in file:\n",
    "        print(line)"
   ]
  },
  {
   "cell_type": "code",
   "execution_count": 68,
   "metadata": {},
   "outputs": [
    {
     "name": "stdout",
     "output_type": "stream",
     "text": [
      "my name is tarun\n",
      "21 years\n"
     ]
    }
   ],
   "source": [
    "# read line by line\n",
    "with open('example.txt','r') as file:\n",
    "    for line in file:\n",
    "        print(line.strip()) # remove newline character and space between lines"
   ]
  },
  {
   "cell_type": "code",
   "execution_count": 72,
   "metadata": {},
   "outputs": [],
   "source": [
    "with open('example1.txt','w') as file:\n",
    "    file.write('hello world!1\\n')\n",
    "    file.write('hello world!2\\n')\n",
    "# data will be overwrite in file \n",
    "#instead r mode use append mode"
   ]
  },
  {
   "cell_type": "code",
   "execution_count": 74,
   "metadata": {},
   "outputs": [],
   "source": [
    "with open('example1.txt','a') as file:\n",
    "    file.write('hello world!3')\n",
    "    file.write('hello world!4')"
   ]
  },
  {
   "cell_type": "code",
   "execution_count": 75,
   "metadata": {},
   "outputs": [],
   "source": [
    "# writing list of line\n",
    "lines=['first_line\\n','second_LIne\\n','third line\\n']\n",
    "with open('example1.txt','a') as file:\n",
    "    file.writelines(lines)\n"
   ]
  },
  {
   "cell_type": "code",
   "execution_count": 1,
   "metadata": {},
   "outputs": [
    {
     "name": "stdout",
     "output_type": "stream",
     "text": [
      "['destination.txt', 'example.bin', 'example.csv', 'example.txt', 'example1.txt', 'source.txt', 'test.ipynb', 'test_dir']\n"
     ]
    }
   ],
   "source": [
    "# binary files\n",
    "import os\n",
    "curr_direc=os.listdir('.')\n",
    "print(curr_direc)"
   ]
  },
  {
   "cell_type": "code",
   "execution_count": null,
   "metadata": {},
   "outputs": [],
   "source": []
  },
  {
   "cell_type": "markdown",
   "metadata": {},
   "source": [
    "binary file"
   ]
  },
  {
   "cell_type": "code",
   "execution_count": 13,
   "metadata": {},
   "outputs": [
    {
     "name": "stdout",
     "output_type": "stream",
     "text": [
      "folder\\file.txt\n"
     ]
    }
   ],
   "source": [
    "##joining path\n",
    "dir_name=\"folder\"\n",
    "file_name=\"file.txt\"\n",
    "full_path=os.path.join(dir_name,file_name)\n",
    "print(full_path)"
   ]
  },
  {
   "cell_type": "markdown",
   "metadata": {},
   "source": []
  },
  {
   "cell_type": "markdown",
   "metadata": {},
   "source": []
  },
  {
   "cell_type": "code",
   "execution_count": 6,
   "metadata": {},
   "outputs": [
    {
     "name": "stdout",
     "output_type": "stream",
     "text": [
      "c:\\Users\\hp\\Desktop\\tutorial codes\\python-basics\n"
     ]
    }
   ],
   "source": [
    "import os\n",
    "print(os.getcwd())"
   ]
  },
  {
   "cell_type": "code",
   "execution_count": 11,
   "metadata": {},
   "outputs": [
    {
     "name": "stdout",
     "output_type": "stream",
     "text": [
      "True\n"
     ]
    }
   ],
   "source": [
    "path='c:\\\\Users\\\\hp\\\\Desktop\\\\tutorial codes\\\\app.py'\n",
    "if os.path.exists(path):\n",
    "  print(True)\n",
    "else:\n",
    "  print(False)\n",
    "  "
   ]
  },
  {
   "cell_type": "code",
   "execution_count": 14,
   "metadata": {},
   "outputs": [],
   "source": [
    "# check if path is a file or directory"
   ]
  },
  {
   "cell_type": "code",
   "execution_count": 16,
   "metadata": {},
   "outputs": [
    {
     "name": "stdout",
     "output_type": "stream",
     "text": [
      "the path is c:\\Users\\hp\\Desktop\\tutorial codes\\ is a directory\n"
     ]
    }
   ],
   "source": [
    "path='c:\\\\Users\\\\hp\\\\Desktop\\\\tutorial codes\\\\'\n",
    "if os.path.isfile(path):\n",
    "    print(f\"the path is {path} is a file\")\n",
    "elif os.path.isdir(path):\n",
    "    print(f\"the path is {path} is a directory\")"
   ]
  },
  {
   "cell_type": "code",
   "execution_count": 17,
   "metadata": {},
   "outputs": [
    {
     "name": "stdout",
     "output_type": "stream",
     "text": [
      "c:\\Users\\hp\\Desktop\\tutorial codes\\python-basics\\example.csv\n"
     ]
    }
   ],
   "source": [
    "relative_path='example.csv'\n",
    "print(os.path.abspath(relative_path))\n"
   ]
  },
  {
   "cell_type": "code",
   "execution_count": 19,
   "metadata": {},
   "outputs": [
    {
     "name": "stdout",
     "output_type": "stream",
     "text": [
      "/home\\User/Desktop\\file.txt\n",
      "/home\\file.txt\n",
      "/home\n"
     ]
    }
   ],
   "source": [
    "import os\n",
    "\n",
    "# Path\n",
    "path = \"/home\"\n",
    "\n",
    "# Join various path components\n",
    "print(os.path.join(path, \"User/Desktop\", \"file.txt\"))\n",
    "\n",
    "# Path\n",
    "path = \"User/Documents\"\n",
    "\n",
    "# Join various path components\n",
    "print(os.path.join(path, \"/home\", \"file.txt\"))\n",
    "\n",
    "# Path\n",
    "path = \"/User\"\n",
    "\n",
    "# Join various path components\n",
    "print(os.path.join(path, \"Downloads\", \"file.txt\", \"/home\"))\n"
   ]
  },
  {
   "cell_type": "code",
   "execution_count": 21,
   "metadata": {},
   "outputs": [
    {
     "ename": "NameError",
     "evalue": "name 'b' is not defined",
     "output_type": "error",
     "traceback": [
      "\u001b[1;31m---------------------------------------------------------------------------\u001b[0m",
      "\u001b[1;31mNameError\u001b[0m                                 Traceback (most recent call last)",
      "Cell \u001b[1;32mIn[21], line 2\u001b[0m\n\u001b[0;32m      1\u001b[0m \u001b[38;5;66;03m#exception handling\u001b[39;00m\n\u001b[1;32m----> 2\u001b[0m a\u001b[38;5;241m=\u001b[39m\u001b[43mb\u001b[49m\n",
      "\u001b[1;31mNameError\u001b[0m: name 'b' is not defined"
     ]
    }
   ],
   "source": [
    "#exception handling\n",
    "a=b"
   ]
  },
  {
   "cell_type": "code",
   "execution_count": 22,
   "metadata": {},
   "outputs": [],
   "source": [
    "# exception handling include try except finally block\n"
   ]
  },
  {
   "cell_type": "code",
   "execution_count": 25,
   "metadata": {},
   "outputs": [
    {
     "name": "stdout",
     "output_type": "stream",
     "text": [
      "variable define nhi kiye ho\n"
     ]
    }
   ],
   "source": [
    "try:\n",
    "    a=b\n",
    "except :\n",
    "    print(\"variable define nhi kiye ho\")\n",
    "\n"
   ]
  },
  {
   "cell_type": "code",
   "execution_count": 30,
   "metadata": {},
   "outputs": [
    {
     "name": "stdout",
     "output_type": "stream",
     "text": [
      "name 'b' is not defined\n"
     ]
    }
   ],
   "source": [
    "try:\n",
    "    a=b\n",
    "except NameError as e:\n",
    "    print(e)\n",
    "\n"
   ]
  },
  {
   "cell_type": "code",
   "execution_count": 32,
   "metadata": {},
   "outputs": [
    {
     "name": "stdout",
     "output_type": "stream",
     "text": [
      "division by 0\n"
     ]
    }
   ],
   "source": [
    "try:\n",
    "    res=1/0\n",
    "except :\n",
    "    print(\"division by 0\")"
   ]
  },
  {
   "cell_type": "code",
   "execution_count": 34,
   "metadata": {},
   "outputs": [
    {
     "name": "stdout",
     "output_type": "stream",
     "text": [
      "division by zero\n",
      "enter denominator greater than 0\n"
     ]
    }
   ],
   "source": [
    "try:\n",
    "    res=1/0\n",
    "except ZeroDivisionError as z:\n",
    "    print(z)\n",
    "    print(\"enter denominator greater than 0\")"
   ]
  },
  {
   "cell_type": "code",
   "execution_count": 2,
   "metadata": {},
   "outputs": [
    {
     "name": "stdout",
     "output_type": "stream",
     "text": [
      "name 'b' is not defined\n"
     ]
    }
   ],
   "source": [
    "try:\n",
    "    res=1/2\n",
    "    a=b\n",
    "except ZeroDivisionError as z:\n",
    "    print(z)\n",
    "    print(\"enter denominator greater than 0\")\n",
    "except Exception as ex:\n",
    "    print(ex)"
   ]
  },
  {
   "cell_type": "code",
   "execution_count": 12,
   "metadata": {},
   "outputs": [
    {
     "name": "stdout",
     "output_type": "stream",
     "text": [
      "division by zero\n"
     ]
    }
   ],
   "source": [
    "try:\n",
    "    num=int(input(\"enter a number\"))\n",
    "    res=10/num\n",
    "except ValueError as va:\n",
    "    print(va)\n",
    "    print(\"invalid number\")\n",
    "except ZeroDivisionError as ze:\n",
    "    print(ze)\n",
    "else:\n",
    "    print(res)\n"
   ]
  },
  {
   "cell_type": "code",
   "execution_count": 13,
   "metadata": {},
   "outputs": [],
   "source": [
    "# try,except,else and finally block"
   ]
  },
  {
   "cell_type": "code",
   "execution_count": 15,
   "metadata": {},
   "outputs": [
    {
     "name": "stdout",
     "output_type": "stream",
     "text": [
      "division by zero\n",
      "execution complete\n"
     ]
    }
   ],
   "source": [
    "try:\n",
    "    num=int(input(\"enter a number\"))\n",
    "    res=10/num\n",
    "except ValueError as va:\n",
    "    print(va)\n",
    "    print(\"invalid number\")\n",
    "except ZeroDivisionError as ze:\n",
    "    print(ze)\n",
    "else:\n",
    "    print(res)\n",
    "finally:\n",
    "       print(\"execution complete\")\n"
   ]
  },
  {
   "cell_type": "code",
   "execution_count": 16,
   "metadata": {},
   "outputs": [],
   "source": [
    "# file handling exception handling"
   ]
  },
  {
   "cell_type": "code",
   "execution_count": 24,
   "metadata": {},
   "outputs": [
    {
     "name": "stdout",
     "output_type": "stream",
     "text": [
      "hello world!\n",
      "hello world!\n",
      "\n"
     ]
    }
   ],
   "source": [
    "try:\n",
    "    with open('example.txt','r') as file:\n",
    "     content=file.read()\n",
    "     print(content)\n",
    "except FileNotFoundError as fe:\n",
    "    print(fe)\n",
    "finally:\n",
    "    if file in locals() and not file.closed():\n",
    "        \n",
    "        print('file closed')\n",
    "\n"
   ]
  },
  {
   "cell_type": "code",
   "execution_count": null,
   "metadata": {},
   "outputs": [],
   "source": []
  }
 ],
 "metadata": {
  "kernelspec": {
   "display_name": "Python 3",
   "language": "python",
   "name": "python3"
  },
  "language_info": {
   "codemirror_mode": {
    "name": "ipython",
    "version": 3
   },
   "file_extension": ".py",
   "mimetype": "text/x-python",
   "name": "python",
   "nbconvert_exporter": "python",
   "pygments_lexer": "ipython3",
   "version": "3.11.9"
  }
 },
 "nbformat": 4,
 "nbformat_minor": 2
}
